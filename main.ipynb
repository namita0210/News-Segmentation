{
 "cells": [
  {
   "cell_type": "code",
   "id": "initial_id",
   "metadata": {
    "collapsed": true,
    "ExecuteTime": {
     "end_time": "2025-09-04T04:34:22.491292Z",
     "start_time": "2025-09-04T04:34:15.840179Z"
    }
   },
   "source": [
    "from kagglehub import dataset_download\n",
    "import pandas as pd\n",
    "import seaborn as sns\n",
    "from sklearn.feature_extraction.text import TfidfVectorizer\n",
    "from sklearn.preprocessing import OneHotEncoder\n",
    "from scipy.sparse import hstack\n",
    "import numpy as np\n",
    "import matplotlib.pyplot as plt\n",
    "from sklearn.cluster import KMeans\n",
    "from sklearn.decomposition import PCA"
   ],
   "outputs": [
    {
     "name": "stderr",
     "output_type": "stream",
     "text": [
      "C:\\Users\\nnn866470\\AppData\\Local\\Programs\\Python\\Python312\\Lib\\site-packages\\tqdm\\auto.py:21: TqdmWarning: IProgress not found. Please update jupyter and ipywidgets. See https://ipywidgets.readthedocs.io/en/stable/user_install.html\n",
      "  from .autonotebook import tqdm as notebook_tqdm\n"
     ]
    }
   ],
   "execution_count": 1
  },
  {
   "metadata": {
    "ExecuteTime": {
     "end_time": "2025-09-04T04:34:28.738859Z",
     "start_time": "2025-09-04T04:34:25.677484Z"
    }
   },
   "cell_type": "code",
   "source": [
    "path = dataset_download(\"yufengdev/bbc-fulltext-and-category\")\n",
    "print(\"Path to dataset files:\", path)"
   ],
   "id": "46ccabe6186cc15e",
   "outputs": [
    {
     "name": "stdout",
     "output_type": "stream",
     "text": [
      "Warning: Looks like you're using an outdated `kagglehub` version (installed: 0.3.12), please consider upgrading to the latest version (0.3.13).\n",
      "Path to dataset files: C:\\Users\\nnn866470\\.cache\\kagglehub\\datasets\\yufengdev\\bbc-fulltext-and-category\\versions\\2\n"
     ]
    }
   ],
   "execution_count": 2
  },
  {
   "metadata": {
    "ExecuteTime": {
     "end_time": "2025-09-04T04:34:31.393444Z",
     "start_time": "2025-09-04T04:34:31.199457Z"
    }
   },
   "cell_type": "code",
   "source": "df = pd.read_csv(path+ \"/bbc-text.csv\")",
   "id": "13606cd80e8fd7df",
   "outputs": [],
   "execution_count": 3
  },
  {
   "metadata": {
    "ExecuteTime": {
     "end_time": "2025-09-04T04:34:34.112100Z",
     "start_time": "2025-09-04T04:34:33.949597Z"
    }
   },
   "cell_type": "code",
   "source": "df.info()",
   "id": "795938b1abc97967",
   "outputs": [
    {
     "name": "stdout",
     "output_type": "stream",
     "text": [
      "<class 'pandas.core.frame.DataFrame'>\n",
      "RangeIndex: 2225 entries, 0 to 2224\n",
      "Data columns (total 2 columns):\n",
      " #   Column    Non-Null Count  Dtype \n",
      "---  ------    --------------  ----- \n",
      " 0   category  2225 non-null   object\n",
      " 1   text      2225 non-null   object\n",
      "dtypes: object(2)\n",
      "memory usage: 34.9+ KB\n"
     ]
    }
   ],
   "execution_count": 4
  },
  {
   "metadata": {
    "ExecuteTime": {
     "end_time": "2025-09-04T04:34:36.857893Z",
     "start_time": "2025-09-04T04:34:36.790569Z"
    }
   },
   "cell_type": "code",
   "source": "df.describe()",
   "id": "dd6032fd7b7e2f5d",
   "outputs": [
    {
     "data": {
      "text/plain": [
       "       category                                               text\n",
       "count      2225                                               2225\n",
       "unique        5                                               2126\n",
       "top       sport  europe backs digital tv lifestyle how people r...\n",
       "freq        511                                                  2"
      ],
      "text/html": [
       "<div>\n",
       "<style scoped>\n",
       "    .dataframe tbody tr th:only-of-type {\n",
       "        vertical-align: middle;\n",
       "    }\n",
       "\n",
       "    .dataframe tbody tr th {\n",
       "        vertical-align: top;\n",
       "    }\n",
       "\n",
       "    .dataframe thead th {\n",
       "        text-align: right;\n",
       "    }\n",
       "</style>\n",
       "<table border=\"1\" class=\"dataframe\">\n",
       "  <thead>\n",
       "    <tr style=\"text-align: right;\">\n",
       "      <th></th>\n",
       "      <th>category</th>\n",
       "      <th>text</th>\n",
       "    </tr>\n",
       "  </thead>\n",
       "  <tbody>\n",
       "    <tr>\n",
       "      <th>count</th>\n",
       "      <td>2225</td>\n",
       "      <td>2225</td>\n",
       "    </tr>\n",
       "    <tr>\n",
       "      <th>unique</th>\n",
       "      <td>5</td>\n",
       "      <td>2126</td>\n",
       "    </tr>\n",
       "    <tr>\n",
       "      <th>top</th>\n",
       "      <td>sport</td>\n",
       "      <td>europe backs digital tv lifestyle how people r...</td>\n",
       "    </tr>\n",
       "    <tr>\n",
       "      <th>freq</th>\n",
       "      <td>511</td>\n",
       "      <td>2</td>\n",
       "    </tr>\n",
       "  </tbody>\n",
       "</table>\n",
       "</div>"
      ]
     },
     "execution_count": 5,
     "metadata": {},
     "output_type": "execute_result"
    }
   ],
   "execution_count": 5
  },
  {
   "metadata": {
    "ExecuteTime": {
     "end_time": "2025-09-04T04:34:46.772058Z",
     "start_time": "2025-09-04T04:34:46.739499Z"
    }
   },
   "cell_type": "code",
   "source": "df.head()",
   "id": "85c264d927261ac0",
   "outputs": [
    {
     "data": {
      "text/plain": [
       "        category                                               text\n",
       "0           tech  tv future in the hands of viewers with home th...\n",
       "1       business  worldcom boss  left books alone  former worldc...\n",
       "2          sport  tigers wary of farrell  gamble  leicester say ...\n",
       "3          sport  yeading face newcastle in fa cup premiership s...\n",
       "4  entertainment  ocean s twelve raids box office ocean s twelve..."
      ],
      "text/html": [
       "<div>\n",
       "<style scoped>\n",
       "    .dataframe tbody tr th:only-of-type {\n",
       "        vertical-align: middle;\n",
       "    }\n",
       "\n",
       "    .dataframe tbody tr th {\n",
       "        vertical-align: top;\n",
       "    }\n",
       "\n",
       "    .dataframe thead th {\n",
       "        text-align: right;\n",
       "    }\n",
       "</style>\n",
       "<table border=\"1\" class=\"dataframe\">\n",
       "  <thead>\n",
       "    <tr style=\"text-align: right;\">\n",
       "      <th></th>\n",
       "      <th>category</th>\n",
       "      <th>text</th>\n",
       "    </tr>\n",
       "  </thead>\n",
       "  <tbody>\n",
       "    <tr>\n",
       "      <th>0</th>\n",
       "      <td>tech</td>\n",
       "      <td>tv future in the hands of viewers with home th...</td>\n",
       "    </tr>\n",
       "    <tr>\n",
       "      <th>1</th>\n",
       "      <td>business</td>\n",
       "      <td>worldcom boss  left books alone  former worldc...</td>\n",
       "    </tr>\n",
       "    <tr>\n",
       "      <th>2</th>\n",
       "      <td>sport</td>\n",
       "      <td>tigers wary of farrell  gamble  leicester say ...</td>\n",
       "    </tr>\n",
       "    <tr>\n",
       "      <th>3</th>\n",
       "      <td>sport</td>\n",
       "      <td>yeading face newcastle in fa cup premiership s...</td>\n",
       "    </tr>\n",
       "    <tr>\n",
       "      <th>4</th>\n",
       "      <td>entertainment</td>\n",
       "      <td>ocean s twelve raids box office ocean s twelve...</td>\n",
       "    </tr>\n",
       "  </tbody>\n",
       "</table>\n",
       "</div>"
      ]
     },
     "execution_count": 8,
     "metadata": {},
     "output_type": "execute_result"
    }
   ],
   "execution_count": 8
  },
  {
   "metadata": {
    "ExecuteTime": {
     "end_time": "2025-09-04T04:34:53.218638Z",
     "start_time": "2025-09-04T04:34:53.202917Z"
    }
   },
   "cell_type": "code",
   "source": "df['category'].unique()",
   "id": "df294a8f781c63c1",
   "outputs": [
    {
     "data": {
      "text/plain": [
       "array(['tech', 'business', 'sport', 'entertainment', 'politics'],\n",
       "      dtype=object)"
      ]
     },
     "execution_count": 9,
     "metadata": {},
     "output_type": "execute_result"
    }
   ],
   "execution_count": 9
  },
  {
   "metadata": {},
   "cell_type": "markdown",
   "source": "Check for class weightage",
   "id": "a7bbd38c85322b89"
  },
  {
   "metadata": {
    "ExecuteTime": {
     "end_time": "2025-09-04T04:34:56.053813Z",
     "start_time": "2025-09-04T04:34:55.383874Z"
    }
   },
   "cell_type": "code",
   "source": [
    "ax=sns.countplot(x=df['category'], data = df)\n",
    "total = len(df['category'])\n",
    "\n",
    "for p in ax.patches:\n",
    "    percentage = '{:.1f}%'.format(100 * p.get_height()/total)\n",
    "    x = p.get_x() + p.get_width() / 2\n",
    "    y = p.get_height()\n",
    "    ax.annotate(percentage, (x, y), ha='center', va='bottom')"
   ],
   "id": "5465868f919f3b0b",
   "outputs": [
    {
     "data": {
      "text/plain": [
       "<Figure size 640x480 with 1 Axes>"
      ],
      "image/png": "[encoded data removed]"
     },
     "metadata": {},
     "output_type": "display_data"
    }
   ],
   "execution_count": 10
  },
  {
   "metadata": {},
   "cell_type": "markdown",
   "source": "One hot encoding the category column",
   "id": "6266705866775cd1"
  },
  {
   "metadata": {
    "ExecuteTime": {
     "end_time": "2025-09-04T04:35:09.112225Z",
     "start_time": "2025-09-04T04:35:09.102985Z"
    }
   },
   "cell_type": "code",
   "source": [
    "# Convert category column into numerical format\n",
    "# ohe = OneHotEncoder()\n",
    "# X_category = ohe.fit_transform(df[[\"category\"]])"
   ],
   "id": "e746bfb4244da4b3",
   "outputs": [],
   "execution_count": 11
  },
  {
   "metadata": {},
   "cell_type": "markdown",
   "source": "Apply TF IDF  to  the dataset to convert the text data into numerical",
   "id": "50ac78cd5d1f8859"
  },
  {
   "metadata": {
    "ExecuteTime": {
     "end_time": "2025-09-04T04:35:11.669923Z",
     "start_time": "2025-09-04T04:35:11.657275Z"
    }
   },
   "cell_type": "code",
   "source": [
    "vectorizer = TfidfVectorizer(\n",
    "    lowercase=True,        # make everything lowercase (default=True)\n",
    "    stop_words='english',  # remove English stopwords (or give your own list)\n",
    "    max_df=0.8,            # ignore words that appear in >80% of docs\n",
    "    min_df=3,              # ignore words that appear in <3 docs\n",
    "    ngram_range=(1,2)      # use unigrams and bigrams (\"machine\", \"machine learning\")\n",
    ")"
   ],
   "id": "2f7ff7b855448773",
   "outputs": [],
   "execution_count": 12
  },
  {
   "metadata": {
    "ExecuteTime": {
     "end_time": "2025-09-04T04:35:18.873836Z",
     "start_time": "2025-09-04T04:35:16.040559Z"
    }
   },
   "cell_type": "code",
   "source": [
    "# convert text column into numerical format\n",
    "X_text = vectorizer.fit_transform(df['text'])"
   ],
   "id": "3c09115e1b5ba70e",
   "outputs": [],
   "execution_count": 13
  },
  {
   "metadata": {
    "ExecuteTime": {
     "end_time": "2025-09-04T04:35:40.085998Z",
     "start_time": "2025-09-04T04:35:40.073947Z"
    }
   },
   "cell_type": "code",
   "source": [
    "# # Merge both the sparse matrices = text + category\n",
    "# X_merged = hstack((X_text, X_category))\n",
    "X_merged = X_text"
   ],
   "id": "518017c2651e14a4",
   "outputs": [],
   "execution_count": 14
  },
  {
   "metadata": {},
   "cell_type": "markdown",
   "source": "Elbow Method",
   "id": "9fa91cb5da585494"
  },
  {
   "metadata": {
    "ExecuteTime": {
     "end_time": "2025-09-04T04:35:50.576340Z",
     "start_time": "2025-09-04T04:35:43.407687Z"
    }
   },
   "cell_type": "code",
   "source": [
    "# Step 1 : Use elbow method to get the optimal number of clusters.\n",
    "inertia = []\n",
    "for k in range(1,11):\n",
    "    kmeans = KMeans(n_clusters=k, random_state=42)\n",
    "    kmeans.fit(X_merged).fit(X_merged)\n",
    "    inertia.append(kmeans.inertia_)"
   ],
   "id": "e9706d31e2bd1f93",
   "outputs": [],
   "execution_count": 15
  },
  {
   "metadata": {
    "ExecuteTime": {
     "end_time": "2025-09-04T04:35:53.534119Z",
     "start_time": "2025-09-04T04:35:52.968521Z"
    }
   },
   "cell_type": "code",
   "source": [
    "K = range(1,11)\n",
    "plt.plot(K, inertia)\n",
    "plt.xlabel(\"Number of clusters (k)\")\n",
    "plt.ylabel(\"Inertia (Within-cluster sum of squares)\")\n",
    "plt.title(\"Elbow Method For Optimal k\")"
   ],
   "id": "c3fc55dc9d47869b",
   "outputs": [
    {
     "data": {
      "text/plain": [
       "Text(0.5, 1.0, 'Elbow Method For Optimal k')"
      ]
     },
     "execution_count": 16,
     "metadata": {},
     "output_type": "execute_result"
    },
    {
     "data": {
      "text/plain": [
       "<Figure size 640x480 with 1 Axes>"
      ],
      "image/png": "[encoded data removed]"
     },
     "metadata": {},
     "output_type": "display_data"
    }
   ],
   "execution_count": 16
  },
  {
   "metadata": {},
   "cell_type": "markdown",
   "source": "Dimensionality reduction with PCA",
   "id": "a86f233c8efdbdbb"
  },
  {
   "metadata": {
    "ExecuteTime": {
     "end_time": "2025-09-04T04:41:34.968735Z",
     "start_time": "2025-09-04T04:41:34.947361Z"
    }
   },
   "cell_type": "code",
   "source": "pca = PCA(n_components=2) # 2 is the number of dimensions",
   "id": "fdfabc6433c67343",
   "outputs": [],
   "execution_count": 17
  },
  {
   "metadata": {
    "ExecuteTime": {
     "end_time": "2025-09-04T04:41:41.477786Z",
     "start_time": "2025-09-04T04:41:37.670413Z"
    }
   },
   "cell_type": "code",
   "source": "X_reduced = pca.fit_transform(X_merged.toarray())",
   "id": "36b86cd62c09e755",
   "outputs": [],
   "execution_count": 18
  },
  {
   "metadata": {},
   "cell_type": "markdown",
   "source": "K Means Clustering",
   "id": "97a8fabf60bbf220"
  },
  {
   "metadata": {
    "ExecuteTime": {
     "end_time": "2025-09-04T04:41:48.510368Z",
     "start_time": "2025-09-04T04:41:48.469032Z"
    }
   },
   "cell_type": "code",
   "source": "kmeans = KMeans(n_clusters=3, random_state=42)",
   "id": "9e78fbd9fc03bd24",
   "outputs": [],
   "execution_count": 19
  },
  {
   "metadata": {},
   "cell_type": "markdown",
   "source": [
    ".fit runs the kmeans algorithm on your data and finds centroids<br>\n",
    "predict assigns all the data points to one of the cluster centroids"
   ],
   "id": "190f3f364419bb90"
  },
  {
   "metadata": {
    "ExecuteTime": {
     "end_time": "2025-09-02T08:12:47.396120Z",
     "start_time": "2025-09-02T08:12:47.196940Z"
    }
   },
   "cell_type": "code",
   "source": [
    "labels = kmeans.fit_predict(X_merged)\n",
    "centers_reduced = pca.transform(kmeans.cluster_centers_)"
   ],
   "id": "617bd9abbbecc7fa",
   "outputs": [],
   "execution_count": 18
  },
  {
   "metadata": {
    "ExecuteTime": {
     "end_time": "2025-09-02T08:18:06.644016Z",
     "start_time": "2025-09-02T08:18:05.314983Z"
    }
   },
   "cell_type": "code",
   "source": [
    "plt.scatter(X_reduced[:,0], X_reduced[:,1], c=labels, cmap='viridis')\n",
    "plt.scatter(centers_reduced[:,0], centers_reduced[:,1],\n",
    "            s=200, c='red', marker='X')\n",
    "plt.show()"
   ],
   "id": "de05cb71f1f25f67",
   "outputs": [
    {
     "data": {
      "text/plain": [
       "<Figure size 640x480 with 1 Axes>"
      ],
      "image/png": "[encoded data removed]"
     },
     "metadata": {},
     "output_type": "display_data"
    }
   ],
   "execution_count": 20
  },
  {
   "metadata": {},
   "cell_type": "code",
   "outputs": [],
   "execution_count": null,
   "source": "",
   "id": "227a155ed1911244"
  }
 ],
 "metadata": {
  "kernelspec": {
   "display_name": "Python 3",
   "language": "python",
   "name": "python3"
  },
  "language_info": {
   "codemirror_mode": {
    "name": "ipython",
    "version": 2
   },
   "file_extension": ".py",
   "mimetype": "text/x-python",
   "name": "python",
   "nbconvert_exporter": "python",
   "pygments_lexer": "ipython2",
   "version": "2.7.6"
  }
 },
 "nbformat": 4,
 "nbformat_minor": 5
}
